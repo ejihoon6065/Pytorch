{
 "cells": [
  {
   "cell_type": "markdown",
   "metadata": {},
   "source": [
    "# 프로젝트 3-1 : 신경망 정확성 향상 시키기\n",
    "\n",
    "## 과적합(Overfit), 드롭아웃(Drop Out), 그리고 정규화(Regularization)\n",
    "\n",
    "- 조기 종료 : 과적합 & 검증오차\n",
    "- 학습 진행하면 학습 오차는 꾸준히 내려가 0으로 수렴\n",
    "- 검증 오차는 어느 순간 올라가기 시작함\n",
    "- 조기 종료 : 검증 오차가 올라가는 순간 포착하여 학습 종료하는 것\n",
    "\n",
    "- 과적합 방지 : 학습데이터를 늘림, 드롭아웃 모델에 적용"
   ]
  },
  {
   "cell_type": "code",
   "execution_count": 1,
   "metadata": {},
   "outputs": [],
   "source": [
    "import torch\n",
    "import torch.nn as nn\n",
    "import torch.optim as optim\n",
    "import torch.nn.functional as F\n",
    "from torchvision import transforms, datasets"
   ]
  },
  {
   "cell_type": "code",
   "execution_count": 2,
   "metadata": {},
   "outputs": [],
   "source": [
    "USE_CUDA = torch.cuda.is_available()\n",
    "DEVICE = torch.device('cuda' if USE_CUDA else 'cpu')"
   ]
  },
  {
   "cell_type": "code",
   "execution_count": 3,
   "metadata": {},
   "outputs": [],
   "source": [
    "EPOCHS = 50\n",
    "BATCH_SIZE = 64"
   ]
  },
  {
   "cell_type": "markdown",
   "metadata": {},
   "source": [
    "# 데이터 셋에 노이즈 추가하기\n",
    "\n",
    "- transforms.RandomHorizontalFlip() : 무작위 수평뒤집기로 학습 예제 2배로 늘리기 가능\n"
   ]
  },
  {
   "cell_type": "code",
   "execution_count": 5,
   "metadata": {},
   "outputs": [
    {
     "name": "stdout",
     "output_type": "stream",
     "text": [
      "Downloading http://yann.lecun.com/exdb/mnist/train-images-idx3-ubyte.gz to ./.data\\MNIST\\raw\\train-images-idx3-ubyte.gz\n"
     ]
    },
    {
     "data": {
      "application/vnd.jupyter.widget-view+json": {
       "model_id": "d3a1026bedbb4ee88cbc0ddbc3daf378",
       "version_major": 2,
       "version_minor": 0
      },
      "text/plain": [
       "HBox(children=(FloatProgress(value=1.0, bar_style='info', max=1.0), HTML(value='')))"
      ]
     },
     "metadata": {},
     "output_type": "display_data"
    },
    {
     "name": "stdout",
     "output_type": "stream",
     "text": [
      "Extracting ./.data\\MNIST\\raw\\train-images-idx3-ubyte.gz to ./.data\\MNIST\\raw\n",
      "Downloading http://yann.lecun.com/exdb/mnist/train-labels-idx1-ubyte.gz to ./.data\\MNIST\\raw\\train-labels-idx1-ubyte.gz\n"
     ]
    },
    {
     "data": {
      "application/vnd.jupyter.widget-view+json": {
       "model_id": "64e179e0225e4d0da7631b92df1d00e1",
       "version_major": 2,
       "version_minor": 0
      },
      "text/plain": [
       "HBox(children=(FloatProgress(value=1.0, bar_style='info', max=1.0), HTML(value='')))"
      ]
     },
     "metadata": {},
     "output_type": "display_data"
    },
    {
     "name": "stdout",
     "output_type": "stream",
     "text": [
      "Extracting ./.data\\MNIST\\raw\\train-labels-idx1-ubyte.gz to ./.data\\MNIST\\raw\n",
      "Downloading http://yann.lecun.com/exdb/mnist/t10k-images-idx3-ubyte.gz to ./.data\\MNIST\\raw\\t10k-images-idx3-ubyte.gz\n",
      "\n"
     ]
    },
    {
     "data": {
      "application/vnd.jupyter.widget-view+json": {
       "model_id": "047343c5038f465581a11f7a697bee87",
       "version_major": 2,
       "version_minor": 0
      },
      "text/plain": [
       "HBox(children=(FloatProgress(value=1.0, bar_style='info', max=1.0), HTML(value='')))"
      ]
     },
     "metadata": {},
     "output_type": "display_data"
    },
    {
     "name": "stdout",
     "output_type": "stream",
     "text": [
      "Extracting ./.data\\MNIST\\raw\\t10k-images-idx3-ubyte.gz to ./.data\\MNIST\\raw\n",
      "Downloading http://yann.lecun.com/exdb/mnist/t10k-labels-idx1-ubyte.gz to ./.data\\MNIST\\raw\\t10k-labels-idx1-ubyte.gz\n"
     ]
    },
    {
     "data": {
      "application/vnd.jupyter.widget-view+json": {
       "model_id": "620f69b84e25423d81cd54c6482b7976",
       "version_major": 2,
       "version_minor": 0
      },
      "text/plain": [
       "HBox(children=(FloatProgress(value=1.0, bar_style='info', max=1.0), HTML(value='')))"
      ]
     },
     "metadata": {},
     "output_type": "display_data"
    },
    {
     "name": "stdout",
     "output_type": "stream",
     "text": [
      "Extracting ./.data\\MNIST\\raw\\t10k-labels-idx1-ubyte.gz to ./.data\\MNIST\\raw\n",
      "Processing...\n"
     ]
    },
    {
     "name": "stderr",
     "output_type": "stream",
     "text": [
      "C:\\Users\\user\\anaconda3\\lib\\site-packages\\torchvision\\datasets\\mnist.py:469: UserWarning: The given NumPy array is not writeable, and PyTorch does not support non-writeable tensors. This means you can write to the underlying (supposedly non-writeable) NumPy array using the tensor. You may want to copy the array to protect its data or make it writeable before converting it to a tensor. This type of warning will be suppressed for the rest of this program. (Triggered internally at  ..\\torch\\csrc\\utils\\tensor_numpy.cpp:141.)\n",
      "  return torch.from_numpy(parsed.astype(m[2], copy=False)).view(*s)\n"
     ]
    },
    {
     "name": "stdout",
     "output_type": "stream",
     "text": [
      "Done!\n"
     ]
    }
   ],
   "source": [
    "train_loader = torch.utils.data.DataLoader(\n",
    "        datasets.MNIST('./.data',\n",
    "                      train=True,\n",
    "                      download=True,\n",
    "                      transform=transforms.Compose([\n",
    "                          transforms.RandomHorizontalFlip(),\n",
    "                          transforms.ToTensor(),\n",
    "                          transforms.Normalize((0.1307,), (0.3081,))\n",
    "                          \n",
    "                      ])),\n",
    "        batch_size=BATCH_SIZE, shuffle=True)\n",
    "\n",
    "test_loader = torch.utils.data.DataLoader(\n",
    "        datasets.MNIST('./.data',\n",
    "                      train=False,\n",
    "                      transform=transforms.Compose([\n",
    "                          transforms.ToTensor(),\n",
    "                          transforms.Normalize((0.1307,), (0.3081,))\n",
    "                      ])),\n",
    "        batch_size=BATCH_SIZE, shuffle=True)"
   ]
  },
  {
   "cell_type": "markdown",
   "metadata": {},
   "source": [
    "# Fashion MNIST 학습하기\n",
    "\n",
    "- dropout_p : 드롭아웃 비율 설정( 예, 0.2 = 20% 뉴런 사용 안함), 학습 모드에서만 DropOUt 실행\n",
    "- 평가모드는 모든 뉴런 사용"
   ]
  },
  {
   "cell_type": "code",
   "execution_count": 7,
   "metadata": {},
   "outputs": [],
   "source": [
    "class Net(nn.Module) :\n",
    "    def __init__(self, dropout_p=0.2):\n",
    "        super(Net, self).__init__()\n",
    "        self.fc1 = nn.Linear(784, 256)\n",
    "        self.fc2 = nn.Linear(256, 128)\n",
    "        self.fc3 = nn.Linear(128, 10)\n",
    "        # 드롭 아웃 혹률\n",
    "        self.dropout_p = dropout_p\n",
    "        \n",
    "    def forward(self, x):\n",
    "        x = x.view(-1, 784)\n",
    "        x = F.relu(self.fc1(x))\n",
    "        # 드롭 아웃 추가\n",
    "        x = F.dropout(x, training = self.training,\n",
    "                      p=self.dropout_p)\n",
    "        x = F.relu(self.fc2(x))\n",
    "        # 드롭 아웃 추가\n",
    "        x = F.dropout(x, training = self.training,\n",
    "                     p=self.dropout_p)\n",
    "        x = self.fc3(x)\n",
    "        return x"
   ]
  },
  {
   "cell_type": "markdown",
   "metadata": {},
   "source": [
    "# 모델 설정"
   ]
  },
  {
   "cell_type": "code",
   "execution_count": 8,
   "metadata": {},
   "outputs": [],
   "source": [
    "model = Net(dropout_p = 0.2).to(DEVICE)\n",
    "optimizer = optim.SGD(model.parameters(), lr = 0.01)"
   ]
  },
  {
   "cell_type": "markdown",
   "metadata": {},
   "source": [
    "# 학습하기"
   ]
  },
  {
   "cell_type": "code",
   "execution_count": 9,
   "metadata": {},
   "outputs": [],
   "source": [
    "def train(model, train_loader, optimizer) :\n",
    "    model.train()\n",
    "    for batch_idx, (data, target) in enumerate(train_loader) :\n",
    "        data, target = data.to(DEVICE), target.to(DEVICE)\n",
    "        optimizer.zero_grad()\n",
    "        output = model(data)\n",
    "        loss = F.cross_entropy(output, target)\n",
    "        loss.backward()\n",
    "        optimizer.step()"
   ]
  },
  {
   "cell_type": "markdown",
   "metadata": {},
   "source": [
    "# 테스트 하기"
   ]
  },
  {
   "cell_type": "code",
   "execution_count": 10,
   "metadata": {},
   "outputs": [],
   "source": [
    "def evaluate(model, test_loader) :\n",
    "    model.eval()\n",
    "    test_loss = 0\n",
    "    correct = 0\n",
    "    with torch.no_grad():\n",
    "        for data, target in test_loader :\n",
    "            data, target = data.to(DEVICE), target.to(DEVICE)\n",
    "            output = model(data)\n",
    "            test_loss += F.cross_entropy(output, target,\n",
    "                                        reduction = 'sum').item()\n",
    "            \n",
    "            #맞춘 개수 계산\n",
    "            pred = output.max(1, keepdim=True)[1]\n",
    "            correct += pred.eq(target.view_as(pred)).sum().item()\n",
    "            \n",
    "    test_loss /= len(test_loader.dataset)\n",
    "    test_accuracy = 100. * correct / len(test_loader.dataset)\n",
    "    return test_loss, test_accuracy"
   ]
  },
  {
   "cell_type": "markdown",
   "metadata": {},
   "source": [
    "# 실행\n",
    "\n",
    "- 이전 모델(프로젝트3)과 정확성 및 오류 비교"
   ]
  },
  {
   "cell_type": "code",
   "execution_count": null,
   "metadata": {},
   "outputs": [
    {
     "name": "stdout",
     "output_type": "stream",
     "text": [
      "[1] Test Loss: 0.4292, Accuracy: 86.22%\n",
      "[2] Test Loss: 0.3509, Accuracy: 89.10%\n",
      "[3] Test Loss: 0.2881, Accuracy: 91.13%\n",
      "[4] Test Loss: 0.2480, Accuracy: 92.42%\n",
      "[5] Test Loss: 0.2237, Accuracy: 93.15%\n",
      "[6] Test Loss: 0.2048, Accuracy: 93.63%\n",
      "[7] Test Loss: 0.1924, Accuracy: 94.11%\n",
      "[8] Test Loss: 0.1793, Accuracy: 94.54%\n",
      "[9] Test Loss: 0.1703, Accuracy: 94.84%\n",
      "[10] Test Loss: 0.1609, Accuracy: 94.95%\n",
      "[11] Test Loss: 0.1528, Accuracy: 95.28%\n",
      "[12] Test Loss: 0.1457, Accuracy: 95.41%\n",
      "[13] Test Loss: 0.1386, Accuracy: 95.69%\n",
      "[14] Test Loss: 0.1370, Accuracy: 95.71%\n",
      "[15] Test Loss: 0.1334, Accuracy: 95.91%\n",
      "[16] Test Loss: 0.1293, Accuracy: 95.91%\n",
      "[17] Test Loss: 0.1236, Accuracy: 96.08%\n",
      "[18] Test Loss: 0.1222, Accuracy: 96.11%\n",
      "[19] Test Loss: 0.1194, Accuracy: 96.17%\n",
      "[20] Test Loss: 0.1166, Accuracy: 96.25%\n",
      "[21] Test Loss: 0.1148, Accuracy: 96.46%\n",
      "[22] Test Loss: 0.1140, Accuracy: 96.40%\n",
      "[23] Test Loss: 0.1125, Accuracy: 96.45%\n",
      "[24] Test Loss: 0.1105, Accuracy: 96.55%\n",
      "[25] Test Loss: 0.1063, Accuracy: 96.75%\n",
      "[26] Test Loss: 0.1072, Accuracy: 96.64%\n",
      "[27] Test Loss: 0.1031, Accuracy: 96.71%\n",
      "[28] Test Loss: 0.1010, Accuracy: 96.85%\n",
      "[29] Test Loss: 0.1009, Accuracy: 96.86%\n",
      "[30] Test Loss: 0.1005, Accuracy: 96.70%\n",
      "[31] Test Loss: 0.0951, Accuracy: 96.96%\n",
      "[32] Test Loss: 0.0962, Accuracy: 96.93%\n",
      "[33] Test Loss: 0.0938, Accuracy: 96.95%\n",
      "[34] Test Loss: 0.0942, Accuracy: 97.06%\n",
      "[35] Test Loss: 0.0949, Accuracy: 96.95%\n",
      "[36] Test Loss: 0.0932, Accuracy: 96.95%\n",
      "[37] Test Loss: 0.0935, Accuracy: 97.05%\n",
      "[38] Test Loss: 0.0909, Accuracy: 97.03%\n",
      "[39] Test Loss: 0.0909, Accuracy: 97.08%\n",
      "[40] Test Loss: 0.0901, Accuracy: 97.13%\n",
      "[41] Test Loss: 0.0895, Accuracy: 97.19%\n",
      "[42] Test Loss: 0.0909, Accuracy: 97.19%\n",
      "[43] Test Loss: 0.0895, Accuracy: 97.09%\n",
      "[44] Test Loss: 0.0893, Accuracy: 97.11%\n",
      "[45] Test Loss: 0.0876, Accuracy: 97.19%\n",
      "[46] Test Loss: 0.0855, Accuracy: 97.24%\n",
      "[47] Test Loss: 0.0867, Accuracy: 97.20%\n"
     ]
    }
   ],
   "source": [
    "for epoch in range(1, EPOCHS + 1) :\n",
    "    train(model, train_loader, optimizer)\n",
    "    test_loss, test_accuracy = evaluate(model, test_loader)\n",
    "    \n",
    "    print('[{}] Test Loss: {:.4f}, Accuracy: {:.2f}%'.format(\n",
    "           epoch, test_loss, test_accuracy))"
   ]
  }
 ],
 "metadata": {
  "kernelspec": {
   "display_name": "Python 3",
   "language": "python",
   "name": "python3"
  },
  "language_info": {
   "codemirror_mode": {
    "name": "ipython",
    "version": 3
   },
   "file_extension": ".py",
   "mimetype": "text/x-python",
   "name": "python",
   "nbconvert_exporter": "python",
   "pygments_lexer": "ipython3",
   "version": "3.7.6"
  }
 },
 "nbformat": 4,
 "nbformat_minor": 4
}
