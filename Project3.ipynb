{
 "cells": [
  {
   "cell_type": "markdown",
   "metadata": {},
   "source": [
    "# 프로젝트 3 : 패션 아이템 분류 딥러닝 신경망 설계"
   ]
  },
  {
   "cell_type": "markdown",
   "metadata": {},
   "source": [
    "### 개요 : Fashion Mnist 데이터셋이용 패셔 아이템 인식하여 레이블 예측하기.\n",
    "### 입력X와 레이블 y를 받아 학습 후, 새로운 X가 왔을 때 어떤 아이템인지 예측\n",
    "### 레이어 3개 3층 신경망 모델"
   ]
  },
  {
   "cell_type": "markdown",
   "metadata": {},
   "source": [
    "- 이용 모듈\n",
    "- torch.nn : 인공신경망 모델 재료\n",
    "- torch.optim : 최적화\n",
    "- torch.nn.functional : nn모듈의 함수버젼"
   ]
  },
  {
   "cell_type": "code",
   "execution_count": 2,
   "metadata": {},
   "outputs": [],
   "source": [
    "import torch\n",
    "import torch.nn as nn\n",
    "import torch.optim as optim\n",
    "import torch.nn.functional as F\n",
    "from torchvision import transforms, datasets"
   ]
  },
  {
   "cell_type": "markdown",
   "metadata": {},
   "source": [
    "# CUDA 사용 여부 확인\n",
    "\n",
    "- torch.cuda.is_available() : CUDA 용 PyTorch와 CUDA설치 시 True 반환"
   ]
  },
  {
   "cell_type": "code",
   "execution_count": 3,
   "metadata": {},
   "outputs": [],
   "source": [
    "USE_CUDA = torch.cuda.is_available()\n",
    "DEVICE = torch.device('cuda' if USE_CUDA else 'cpu')"
   ]
  },
  {
   "cell_type": "markdown",
   "metadata": {},
   "source": [
    "# 하이퍼 파라미터 설정"
   ]
  },
  {
   "cell_type": "code",
   "execution_count": 4,
   "metadata": {},
   "outputs": [],
   "source": [
    "EPOCHS = 30\n",
    "BATCH_SIZE = 64"
   ]
  },
  {
   "cell_type": "markdown",
   "metadata": {},
   "source": [
    "# 데이터셋 불러오기"
   ]
  },
  {
   "cell_type": "code",
   "execution_count": 6,
   "metadata": {},
   "outputs": [],
   "source": [
    "transform = transforms.Compose([\n",
    "    transforms.ToTensor()  \n",
    "])"
   ]
  },
  {
   "cell_type": "code",
   "execution_count": 8,
   "metadata": {},
   "outputs": [],
   "source": [
    "trainset = datasets.FashionMNIST(\n",
    "    root = './.data/',\n",
    "    train = True,\n",
    "    download = True,\n",
    "    transform = transform\n",
    ")\n",
    "\n",
    "testset = datasets.FashionMNIST(\n",
    "    root = './.data/',\n",
    "    train = False,\n",
    "    download = True,\n",
    "    transform = transform\n",
    ")\n",
    "\n",
    "train_loader = torch.utils.data.DataLoader(\n",
    "    dataset = trainset,\n",
    "    batch_size = BATCH_SIZE,\n",
    "    shuffle = True,\n",
    ")\n",
    "\n",
    "test_loader = torch.utils.data.DataLoader(\n",
    "    dataset = testset,\n",
    "    batch_size = BATCH_SIZE,\n",
    "    shuffle = True,\n",
    ")"
   ]
  },
  {
   "cell_type": "markdown",
   "metadata": {},
   "source": [
    "# 신경망 설계하기\n",
    "\n",
    "- 입력'x'는 [배치크기, 색, 높이, 넓이]로 구성\n",
    "- x.size() -> [64,1,28,28]로 표시 (64 = BATCH_SIZE, 하이퍼 파라미터)\n",
    "\n",
    "- 입력 x : 28 x 28 x 1 = 784 \n"
   ]
  },
  {
   "cell_type": "code",
   "execution_count": 9,
   "metadata": {},
   "outputs": [],
   "source": [
    "class Net(nn.Module):\n",
    "    def __init__(self):\n",
    "        super(Net, self).__init__()\n",
    "        self.fc1 = nn.Linear(784, 256) # fully connected(Dense), 784개 입력받아 256개 출력\n",
    "        self.fc2 = nn.Linear(256, 128) # 256개 입력받아 128개 출력\n",
    "        self.fc3 = nn.Linear(128, 10)  # 128개 입력받아 10개 출력(패션 아이템 카테고리 개수)\n",
    "        \n",
    "    def forward(self, x):\n",
    "        x = x.view(-1, 784)            # 입력을 받아 1차원 행렬로 만듦\n",
    "        x = F.relu(self.fc1(x))        # nn.ReLU 클래스와 같은 기능\n",
    "        x = F.relu(self.fc2(x))\n",
    "        x = self.fc3(x)                # 출력 10개의 값\n",
    "        return x"
   ]
  },
  {
   "cell_type": "markdown",
   "metadata": {},
   "source": [
    "# 모델 선언하기\n",
    "\n",
    "- to() 함수는 모델의 파라미터들을 지정한 곳으로 보내는 역할\n",
    "- CPU 1개만 사용할 경우는 필요 없지만 , GPU를 사용하고자 하는 경우 'to(\"cuda\")'로 지정하여 GPU로 보내야 함\n",
    "- 지정하지 않을 경우 계속 CPU에 남아 있게 되며 GPU 이용한 빠른 학습이 안됨\n",
    "\n",
    "- optim.SGD : 최적화 함수(SGD : 확률적 경사하강법)\n",
    "- model.parameters() : 모델 내부 정보를 넘겨주는 함수\n",
    "- lr(learning rate : 학습률) : 임의로 지정( 적당한 값, 처음에는 큰 값에서 점점 작아지게 설계하면 좋음)"
   ]
  },
  {
   "cell_type": "code",
   "execution_count": 10,
   "metadata": {},
   "outputs": [],
   "source": [
    "model = Net().to(DEVICE)\n",
    "optimizer = optim.SGD(model.parameters(), lr=0.01)"
   ]
  },
  {
   "cell_type": "markdown",
   "metadata": {},
   "source": [
    "# 학습모델 설계하기\n",
    "\n",
    "- model.train() : 모델을 '학습'모드로 선언, 학습/평가 모드에 따라 동작이 다른 함수(Drop Out) 오동작 예방\n",
    "- optimizer.zero_grad() : 기울기 초기화, 반복 때마다 기울기를 새로 계산하기 위해 호출"
   ]
  },
  {
   "cell_type": "code",
   "execution_count": 14,
   "metadata": {},
   "outputs": [],
   "source": [
    "def train(model, train_loader, optimizer):\n",
    "    model.train()\n",
    "    for batch_idx, (data, target) in enumerate(train_loader) :\n",
    "        #학습 데이터를 DEVICE의 메모리로 보냄\n",
    "        data, target = data.to(DEVICE), target.to(DEVICE) # to()함수로 모델\n",
    "                                                   #가중치에 사용한 같은 장치 이용(CPU or GPU)\n",
    "        optimizer.zero_grad()\n",
    "        output = model(data)\n",
    "        loss = F.cross_entropy(output, target)     # 예측값(output)과 레이블(target) 오차 구하기\n",
    "                                                   # 교차 엔트로피\n",
    "        loss.backward()                            #기울기 계산\n",
    "        optimizer.step()                           #계산한 기울기를 모델에 맞춰 가중치 수정"
   ]
  },
  {
   "cell_type": "markdown",
   "metadata": {},
   "source": [
    "# 딥 러닝 모델 성능 테스트하기\n",
    "\n",
    "- epoch 끝날 때마다 테스트 셋으로 성능 평가\n",
    "- 모델 평가 목표 시에는 최적화 X"
   ]
  },
  {
   "cell_type": "markdown",
   "metadata": {},
   "source": [
    "- model.eval() : 평가 모드로 모델 전환\n",
    "- torch.no_grad() : 평가에선 기울기 계산 안함\n",
    "- output.max() : 가장 큰 값 & 인덱스 출력, 그 중 인덱스 [1] = 패션 아이템 번호 0~9\n",
    "- pred.eq() : 값이 일치하면 1, 아니면 0\n",
    "- view_as() : target 텐서를 ()안 인자의 모양대로 다시 정렬"
   ]
  },
  {
   "cell_type": "code",
   "execution_count": 15,
   "metadata": {},
   "outputs": [],
   "source": [
    "def evaluate(model, test_loader):\n",
    "    model.eval()\n",
    "    test_loss = 0\n",
    "    correct = 0\n",
    "    with torch.no_grad():\n",
    "        for data, target in test_loader :\n",
    "            data, target = data.to(DEVICE), target.to(DEVICE)\n",
    "            output = model(data)\n",
    "            # 모든 오차 더하기, 미니배치 평균이 아닌 합 ie. test_loss는 모든 테스트셋의 오차합\n",
    "            test_loss += F.cross_entropy(output, target, reduction = 'sum').item()\n",
    "            # 가장 큰 값을 가진 클래스가 모델의 예측\n",
    "            # 에측과 정답을 비교하여 일치할 경우 correct에 1을 더함\n",
    "            pred = output.max(1, keepdim=True)[1]\n",
    "            correct += pred.eq(target.view_as(pred)).sum().item()\n",
    "            # sun90으로 배치에서 모델이 정답을 맞춘 개수를 구함\n",
    "    test_loss /= len(test_loader.dataset)\n",
    "    test_accuracy = 100. * correct / len(test_loader.dataset)\n",
    "    return test_loss, test_accuracy"
   ]
  },
  {
   "cell_type": "markdown",
   "metadata": {},
   "source": [
    "# 코즈 돌려 모델 확인해보기"
   ]
  },
  {
   "cell_type": "code",
   "execution_count": 16,
   "metadata": {},
   "outputs": [
    {
     "name": "stdout",
     "output_type": "stream",
     "text": [
      "[1] Test Loss : 0.8413, Accuracy : 68.57%\n",
      "[2] Test Loss : 0.6774, Accuracy : 76.44%\n",
      "[3] Test Loss : 0.6232, Accuracy : 76.85%\n",
      "[4] Test Loss : 0.5428, Accuracy : 80.87%\n",
      "[5] Test Loss : 0.5451, Accuracy : 80.90%\n",
      "[6] Test Loss : 0.4918, Accuracy : 82.53%\n",
      "[7] Test Loss : 0.4780, Accuracy : 82.90%\n",
      "[8] Test Loss : 0.4697, Accuracy : 83.55%\n",
      "[9] Test Loss : 0.4860, Accuracy : 82.78%\n",
      "[10] Test Loss : 0.4680, Accuracy : 83.10%\n",
      "[11] Test Loss : 0.4542, Accuracy : 83.86%\n",
      "[12] Test Loss : 0.4458, Accuracy : 84.25%\n",
      "[13] Test Loss : 0.4516, Accuracy : 83.57%\n",
      "[14] Test Loss : 0.4256, Accuracy : 85.04%\n",
      "[15] Test Loss : 0.4270, Accuracy : 84.78%\n",
      "[16] Test Loss : 0.4217, Accuracy : 84.99%\n",
      "[17] Test Loss : 0.4258, Accuracy : 84.97%\n",
      "[18] Test Loss : 0.4184, Accuracy : 85.25%\n",
      "[19] Test Loss : 0.4752, Accuracy : 82.26%\n",
      "[20] Test Loss : 0.4094, Accuracy : 85.29%\n",
      "[21] Test Loss : 0.4002, Accuracy : 85.63%\n",
      "[22] Test Loss : 0.4029, Accuracy : 85.91%\n",
      "[23] Test Loss : 0.4047, Accuracy : 85.61%\n",
      "[24] Test Loss : 0.3977, Accuracy : 85.70%\n",
      "[25] Test Loss : 0.4122, Accuracy : 85.30%\n",
      "[26] Test Loss : 0.3873, Accuracy : 86.19%\n",
      "[27] Test Loss : 0.3883, Accuracy : 86.26%\n",
      "[28] Test Loss : 0.3895, Accuracy : 86.19%\n",
      "[29] Test Loss : 0.3712, Accuracy : 86.87%\n",
      "[30] Test Loss : 0.3774, Accuracy : 86.63%\n"
     ]
    }
   ],
   "source": [
    "for epoch in range(1, EPOCHS + 1) :\n",
    "    train(model, train_loader, optimizer)\n",
    "    test_loss, test_accuracy = evaluate(model, test_loader)\n",
    "    \n",
    "    print('[{}] Test Loss : {:.4f}, Accuracy : {:.2f}%'.format(\n",
    "    epoch, test_loss, test_accuracy))"
   ]
  }
 ],
 "metadata": {
  "kernelspec": {
   "display_name": "Python 3",
   "language": "python",
   "name": "python3"
  },
  "language_info": {
   "codemirror_mode": {
    "name": "ipython",
    "version": 3
   },
   "file_extension": ".py",
   "mimetype": "text/x-python",
   "name": "python",
   "nbconvert_exporter": "python",
   "pygments_lexer": "ipython3",
   "version": "3.7.6"
  }
 },
 "nbformat": 4,
 "nbformat_minor": 4
}
